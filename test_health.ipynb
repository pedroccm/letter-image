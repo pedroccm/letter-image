{
 "cells": [
  {
   "cell_type": "code",
   "execution_count": null,
   "id": "cell-0",
   "metadata": {},
   "outputs": [],
   "source": [
    "import requests\n",
    "import json\n",
    "from datetime import datetime\n",
    "\n",
    "# Teste do Health Check da API\n",
    "BASE_URL = \"https://letter-image.onrender.com\"\n",
    "\n",
    "print(f\"🏥 Testando Health Check da API\")\n",
    "print(f\"🔗 URL: {BASE_URL}/health\")\n",
    "print(f\"⏰ Horário: {datetime.now().strftime('%H:%M:%S')}\")\n",
    "\n",
    "try:\n",
    "    response = requests.get(f\"{BASE_URL}/health\", timeout=10)\n",
    "    \n",
    "    print(f\"\\n📊 Status HTTP: {response.status_code}\")\n",
    "    \n",
    "    if response.status_code == 200:\n",
    "        data = response.json()\n",
    "        print(\"\\n✅ Servidor ONLINE\")\n",
    "        print(f\"   Status: {data.get('status')}\")\n",
    "        print(f\"   Server: {data.get('server')}\")\n",
    "        print(f\"   Timestamp: {data.get('timestamp')}\")\n",
    "        print(f\"   📁 Images Dir: {'✅' if data.get('images_dir_exists') else '❌'}\")\n",
    "        print(f\"   📁 BGs Dir: {'✅' if data.get('bgs_dir_exists') else '❌'}\")\n",
    "        print(f\"   🔑 API Key: {'✅' if data.get('api_key_configured') else '❌'}\")\n",
    "        \n",
    "        # Converter timestamp para data legível\n",
    "        if data.get('timestamp'):\n",
    "            server_time = datetime.fromtimestamp(data['timestamp'])\n",
    "            print(f\"   🕐 Server Time: {server_time.strftime('%H:%M:%S')}\")\n",
    "            \n",
    "    else:\n",
    "        print(f\"❌ Erro: {response.status_code}\")\n",
    "        print(f\"Resposta: {response.text}\")\n",
    "        \n",
    "except requests.Timeout:\n",
    "    print(\"⏰ TIMEOUT - Servidor não respondeu em 10s\")\n",
    "except requests.ConnectionError:\n",
    "    print(\"🔌 ERRO DE CONEXÃO - Servidor offline ou inacessível\")\n",
    "except Exception as e:\n",
    "    print(f\"❌ Erro inesperado: {e}\")\n",
    "\n",
    "print(\"\\n🏁 Teste concluído\")"
   ]
  }
 ],
 "metadata": {
  "kernelspec": {
   "display_name": "Python 3",
   "language": "python",
   "name": "python3"
  },
  "language_info": {
   "codemirror_mode": {
    "name": "ipython",
    "version": 3
   },
   "file_extension": ".py",
   "mimetype": "text/x-python",
   "name": "python",
   "nbconvert_exporter": "python",
   "pygments_lexer": "ipython3",
   "version": "3.8.5"
  }
 },
 "nbformat": 4,
 "nbformat_minor": 4
}
