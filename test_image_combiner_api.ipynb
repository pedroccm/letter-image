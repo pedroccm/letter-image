{
 "cells": [
  {
   "cell_type": "markdown",
   "metadata": {},
   "source": "# Teste da Team Background Generator API\n\nEste notebook testa a nova API que gera backgrounds personalizados para times usando IA e Supabase."
  },
  {
   "cell_type": "code",
   "execution_count": null,
   "metadata": {},
   "outputs": [],
   "source": "import requests\nimport json\nfrom IPython.display import Image, display\nimport os\n\n# URL base da API (use a URL do Render após deploy)\nBASE_URL = \"https://letter-image.onrender.com\"  # Após deploy\n# BASE_URL = \"http://localhost:8000\"  # Para testes locais"
  },
  {
   "cell_type": "code",
   "execution_count": null,
   "metadata": {},
   "outputs": [],
   "source": [
    "# Teste 1: Verificar se a API está funcionando\n",
    "response = requests.get(f\"{BASE_URL}/\")\n",
    "print(f\"Status: {response.status_code}\")\n",
    "print(f\"Resposta: {response.json()}\")"
   ]
  },
  {
   "cell_type": "code",
   "execution_count": null,
   "metadata": {},
   "outputs": [],
   "source": [
    "# Teste 2: Listar imagens disponíveis\n",
    "response = requests.get(f\"{BASE_URL}/list-images\")\n",
    "print(f\"Status: {response.status_code}\")\n",
    "images = response.json()[\"images\"]\n",
    "print(f\"Imagens disponíveis ({len(images)}):\")\n",
    "for img in images[:10]:  # Mostrar apenas as primeiras 10\n",
    "    print(f\"  - {img}\")\n",
    "if len(images) > 10:\n",
    "    print(f\"  ... e mais {len(images) - 10} imagens\")"
   ]
  },
  {
   "cell_type": "code",
   "execution_count": null,
   "metadata": {},
   "outputs": [],
   "source": "# Teste 3: Gerar backgrounds para um time\n# A nova API gera 5 backgrounds personalizados e retorna URLs do Supabase\n\nteam_name = \"flamengo\"  # Nome do time (sem extensão)\n\ndata = {\n    \"team_name\": team_name,\n    \"size\": \"1024x1024\",\n    \"quality\": \"medium\"\n}\n\nprint(f\"🚀 Gerando backgrounds para: {team_name}\")\nprint(\"⏳ Processando... (pode demorar alguns minutos)\")\n\nresponse = requests.post(f\"{BASE_URL}/generate-team-backgrounds\", json=data)\nprint(f\"\\nStatus: {response.status_code}\")\n\nif response.status_code == 200:\n    result = response.json()\n    print(f\"✅ Sucesso! {result['count']} imagens geradas\")\n    print(f\"🏆 Time: {result['team_name']}\")\n    print(\"\\n📸 URLs das imagens:\")\n    \n    for i, url in enumerate(result['urls'], 1):\n        print(f\"  {i}. {url}\")\n    \n    print(f\"\\n🔗 Você pode acessar as imagens diretamente pelos URLs acima!\")\n    \nelse:\n    print(f\"❌ Erro: {response.text}\")"
  },
  {
   "cell_type": "code",
   "execution_count": null,
   "metadata": {},
   "outputs": [],
   "source": "# Teste 4: Testar com diferentes times\ntimes_teste = [\"santos\", \"palmeiras\", \"corinthians\", \"vasco\"]\n\nfor team in times_teste:\n    print(f\"\\n🚀 Testando com: {team}\")\n    \n    data = {\n        \"team_name\": team,\n        \"size\": \"512x512\",  # Tamanho menor para teste mais rápido\n        \"quality\": \"medium\"\n    }\n    \n    response = requests.post(f\"{BASE_URL}/generate-team-backgrounds\", json=data)\n    print(f\"Status: {response.status_code}\")\n    \n    if response.status_code == 200:\n        result = response.json()\n        print(f\"✅ {result['count']} backgrounds gerados para {team}\")\n        print(f\"🔗 Primeira URL: {result['urls'][0] if result['urls'] else 'Nenhuma'}\")\n    else:\n        print(f\"❌ Erro: {response.text}\")\n        break  # Para se houver erro"
  },
  {
   "cell_type": "code",
   "source": "# Teste 5: Baixar e visualizar uma imagem gerada\n# Este teste baixa uma das imagens geradas e exibe no notebook\n\nif 'result' in locals() and result.get('urls'):\n    # Pegar a primeira URL do último teste\n    first_url = result['urls'][0]\n    print(f\"📥 Baixando imagem: {first_url}\")\n    \n    try:\n        # Baixar a imagem\n        img_response = requests.get(first_url)\n        if img_response.status_code == 200:\n            # Salvar localmente\n            filename = f\"{result['team_name']}_sample.png\"\n            with open(filename, 'wb') as f:\n                f.write(img_response.content)\n            \n            print(f\"✅ Imagem salva como: {filename}\")\n            \n            # Mostrar no notebook\n            display(Image(filename))\n        else:\n            print(f\"❌ Erro ao baixar: {img_response.status_code}\")\n    except Exception as e:\n        print(f\"❌ Erro: {str(e)}\")\nelse:\n    print(\"❌ Execute o teste anterior primeiro para ter URLs disponíveis\")",
   "metadata": {},
   "execution_count": null,
   "outputs": []
  }
 ],
 "metadata": {
  "kernelspec": {
   "display_name": "Python 3",
   "language": "python",
   "name": "python3"
  },
  "language_info": {
   "codemirror_mode": {
    "name": "ipython",
    "version": 3
   },
   "file_extension": ".py",
   "mimetype": "text/x-python",
   "name": "python",
   "nbconvert_exporter": "python",
   "pygments_lexer": "ipython3",
   "version": "3.8.5"
  }
 },
 "nbformat": 4,
 "nbformat_minor": 4
}