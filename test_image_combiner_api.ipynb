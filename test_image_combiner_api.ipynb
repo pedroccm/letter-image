{
 "cells": [
  {
   "cell_type": "markdown",
   "metadata": {},
   "source": [
    "# Teste da Image Combiner API\n",
    "\n",
    "Este notebook testa a API de combinação de imagens usando IA."
   ]
  },
  {
   "cell_type": "code",
   "execution_count": null,
   "metadata": {},
   "outputs": [],
   "source": "import requests\nimport json\nfrom IPython.display import Image, display\nimport os\n\n# URL base da API (use a URL do Render após deploy)\nBASE_URL = \"https://letter-image.onrender.com\"  # Após deploy\n# BASE_URL = \"http://localhost:8000\"  # Para testes locais"
  },
  {
   "cell_type": "code",
   "execution_count": null,
   "metadata": {},
   "outputs": [],
   "source": [
    "# Teste 1: Verificar se a API está funcionando\n",
    "response = requests.get(f\"{BASE_URL}/\")\n",
    "print(f\"Status: {response.status_code}\")\n",
    "print(f\"Resposta: {response.json()}\")"
   ]
  },
  {
   "cell_type": "code",
   "execution_count": null,
   "metadata": {},
   "outputs": [],
   "source": [
    "# Teste 2: Listar imagens disponíveis\n",
    "response = requests.get(f\"{BASE_URL}/list-images\")\n",
    "print(f\"Status: {response.status_code}\")\n",
    "images = response.json()[\"images\"]\n",
    "print(f\"Imagens disponíveis ({len(images)}):\")\n",
    "for img in images[:10]:  # Mostrar apenas as primeiras 10\n",
    "    print(f\"  - {img}\")\n",
    "if len(images) > 10:\n",
    "    print(f\"  ... e mais {len(images) - 10} imagens\")"
   ]
  },
  {
   "cell_type": "code",
   "execution_count": null,
   "metadata": {},
   "outputs": [],
   "source": [
    "# Teste 3: Combinar duas imagens\n",
    "# Ajuste os nomes das imagens conforme disponível na pasta stored_images\n",
    "# Você pode usar nomes com ou sem extensão\n",
    "\n",
    "data = {\n",
    "    \"image1_name\": \"flamengo\",  # sem extensão\n",
    "    \"image2_name\": \"santos\",    # sem extensão\n",
    "    \"prompt\": \"Combine os dois escudos de time de futebol criando uma composição artística lado a lado\",\n",
    "    \"size\": \"1024x1024\",\n",
    "    \"quality\": \"medium\"\n",
    "}\n",
    "\n",
    "response = requests.post(f\"{BASE_URL}/combine-images\", data=data)\n",
    "print(f\"Status: {response.status_code}\")\n",
    "\n",
    "if response.status_code == 200:\n",
    "    # Salvar a imagem resultante\n",
    "    with open(\"resultado_combinacao.png\", \"wb\") as f:\n",
    "        f.write(response.content)\n",
    "    print(\"Imagem combinada salva como 'resultado_combinacao.png'\")\n",
    "    \n",
    "    # Mostrar a imagem no notebook\n",
    "    display(Image(\"resultado_combinacao.png\"))\n",
    "else:\n",
    "    print(f\"Erro: {response.text}\")"
   ]
  },
  {
   "cell_type": "code",
   "execution_count": null,
   "metadata": {},
   "outputs": [],
   "source": [
    "# Teste 4: Testar com diferentes prompts\n",
    "prompts_teste = [\n",
    "    \"Crie uma montagem criativa misturando os elementos das duas imagens\",\n",
    "    \"Faça uma fusão artística das duas imagens em estilo moderno\",\n",
    "    \"Combine as imagens criando um efeito de sobreposição interessante\"\n",
    "]\n",
    "\n",
    "for i, prompt in enumerate(prompts_teste):\n",
    "    print(f\"\\nTeste {i+1}: {prompt[:50]}...\")\n",
    "    \n",
    "    data = {\n",
    "        \"image1_name\": \"palmeiras\",\n",
    "        \"image2_name\": \"corinthians\", \n",
    "        \"prompt\": prompt,\n",
    "        \"size\": \"512x512\",\n",
    "        \"quality\": \"medium\"\n",
    "    }\n",
    "    \n",
    "    response = requests.post(f\"{BASE_URL}/combine-images\", data=data)\n",
    "    print(f\"Status: {response.status_code}\")\n",
    "    \n",
    "    if response.status_code == 200:\n",
    "        filename = f\"teste_{i+1}_resultado.png\"\n",
    "        with open(filename, \"wb\") as f:\n",
    "            f.write(response.content)\n",
    "        print(f\"Salvo como '{filename}'\")\n",
    "    else:\n",
    "        print(f\"Erro: {response.text}\")\n",
    "        break  # Para se houver erro"
   ]
  }
 ],
 "metadata": {
  "kernelspec": {
   "display_name": "Python 3",
   "language": "python",
   "name": "python3"
  },
  "language_info": {
   "codemirror_mode": {
    "name": "ipython",
    "version": 3
   },
   "file_extension": ".py",
   "mimetype": "text/x-python",
   "name": "python",
   "nbconvert_exporter": "python",
   "pygments_lexer": "ipython3",
   "version": "3.8.5"
  }
 },
 "nbformat": 4,
 "nbformat_minor": 4
}