{
 "cells": [
  {
   "cell_type": "code",
   "execution_count": null,
   "metadata": {},
   "outputs": [],
   "source": [
    "import requests\n",
    "from PIL import Image\n",
    "from io import BytesIO\n",
    "import matplotlib.pyplot as plt\n",
    "\n",
    "BASE_URL = \"https://letter-image.onrender.com\""
   ]
  },
  {
   "cell_type": "code",
   "execution_count": null,
   "metadata": {},
   "outputs": [],
   "source": [
    "# Teste básico\n",
    "response = requests.get(f\"{BASE_URL}/\")\n",
    "print(f\"Status: {response.status_code}\")\n",
    "print(f\"Resposta: {response.json()}\")"
   ]
  },
  {
   "cell_type": "code",
   "execution_count": null,
   "metadata": {},
   "outputs": [],
   "source": [
    "# SEU TEXTO E CORES AQUI - EDITE ESTAS VARIÁVEIS\n",
    "MEU_TEXTO = \"Digite seu texto aqui!\"\n",
    "COR_TEXTO = \"#000000\"          # Cor do texto (exemplo: #ff0000 para vermelho)\n",
    "COR_FUNDO = \"#FFFFFF\"          # Cor de fundo (exemplo: #00ff00 para verde)\n",
    "\n",
    "params = {\n",
    "    'text': MEU_TEXTO,\n",
    "    'width': 600,\n",
    "    'height': 300,\n",
    "    'font_size': 32,\n",
    "    'text_color': COR_TEXTO,\n",
    "    'background_color': COR_FUNDO,\n",
    "    'font': 'AghartiVF.ttf'\n",
    "}\n",
    "\n",
    "response = requests.get(f\"{BASE_URL}/render\", params=params)\n",
    "print(f\"Status: {response.status_code}\")\n",
    "\n",
    "if response.status_code == 200:\n",
    "    image = Image.open(BytesIO(response.content))\n",
    "    plt.figure(figsize=(10, 5))\n",
    "    plt.imshow(image)\n",
    "    plt.axis('off')\n",
    "    plt.title('Sua imagem com fonte AghartiVF')\n",
    "    plt.show()\n",
    "else:\n",
    "    print(f\"Erro: {response.text}\")"
   ]
  },
  {
   "cell_type": "code",
   "execution_count": null,
   "metadata": {},
   "outputs": [],
   "source": [
    "# Exemplo com cores personalizadas\n",
    "params = {\n",
    "    'text': 'Texto Colorido!',\n",
    "    'width': 800,\n",
    "    'height': 200,\n",
    "    'font_size': 48,\n",
    "    'text_color': '#FFFFFF',      # Branco\n",
    "    'background_color': '#FF4444', # Vermelho\n",
    "    'font': 'AghartiVF.ttf'\n",
    "}\n",
    "\n",
    "response = requests.get(f\"{BASE_URL}/render\", params=params)\n",
    "if response.status_code == 200:\n",
    "    image = Image.open(BytesIO(response.content))\n",
    "    plt.figure(figsize=(12, 3))\n",
    "    plt.imshow(image)\n",
    "    plt.axis('off')\n",
    "    plt.show()"
   ]
  },
  {
   "cell_type": "code",
   "execution_count": null,
   "metadata": {},
   "outputs": [],
   "source": [
    "# Salvar sua imagem personalizada\n",
    "params = {\n",
    "    'text': MEU_TEXTO,\n",
    "    'width': 800,\n",
    "    'height': 400,\n",
    "    'font_size': 40,\n",
    "    'text_color': COR_TEXTO,\n",
    "    'background_color': COR_FUNDO,\n",
    "    'font': 'AghartiVF.ttf'\n",
    "}\n",
    "\n",
    "response = requests.get(f\"{BASE_URL}/render\", params=params)\n",
    "if response.status_code == 200:\n",
    "    with open('minha_imagem.png', 'wb') as f:\n",
    "        f.write(response.content)\n",
    "    print(\"✅ Imagem salva como 'minha_imagem.png'\")\n",
    "    \n",
    "    image = Image.open(BytesIO(response.content))\n",
    "    plt.figure(figsize=(10, 5))\n",
    "    plt.imshow(image)\n",
    "    plt.axis('off')\n",
    "    plt.title('Sua imagem salva')\n",
    "    plt.show()\n",
    "else:\n",
    "    print(f\"❌ Erro: {response.text}\")"
   ]
  }
 ],
 "metadata": {
  "kernelspec": {
   "display_name": "Python 3",
   "language": "python",
   "name": "python3"
  },
  "language_info": {
   "codemirror_mode": {
    "name": "ipython",
    "version": 3
   },
   "file_extension": ".py",
   "mimetype": "text/x-python",
   "name": "python",
   "nbconvert_exporter": "python",
   "pygments_lexer": "ipython3",
   "version": "3.8.0"
  }
 },
 "nbformat": 4,
 "nbformat_minor": 4
}