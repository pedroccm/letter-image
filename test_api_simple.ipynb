{
 "cells": [
  {
   "cell_type": "code",
   "execution_count": null,
   "id": "cell-0",
   "metadata": {},
   "outputs": [],
   "source": [
    "import requests\n",
    "import json\n",
    "\n",
    "# Teste simples da API - gerar 1 background para 1 time\n",
    "BASE_URL = \"https://letter-image.onrender.com\"\n",
    "team_name = \"flamengo\"\n",
    "\n",
    "print(f\"🚀 Testando API para: {team_name}\")\n",
    "print(\"⏳ Gerando backgrounds...\")\n",
    "\n",
    "data = {\n",
    "    \"team_name\": team_name,\n",
    "    \"size\": \"1024x1536\",\n",
    "    \"quality\": \"medium\"\n",
    "}\n",
    "\n",
    "response = requests.post(f\"{BASE_URL}/generate-team-backgrounds\", json=data)\n",
    "\n",
    "print(f\"\\nStatus: {response.status_code}\")\n",
    "\n",
    "if response.status_code == 200:\n",
    "    result = response.json()\n",
    "    print(f\"✅ Sucesso! {result['count']} imagens geradas\")\n",
    "    print(f\"🏆 Time: {result['team_name']}\")\n",
    "    print(\"\\n📸 URLs:\")\n",
    "    \n",
    "    for i, url in enumerate(result['urls'], 1):\n",
    "        print(f\"  {i}. {url}\")\n",
    "else:\n",
    "    print(f\"❌ Erro: {response.status_code}\")\n",
    "    print(f\"Detalhes: {response.text}\")"
   ]
  }
 ],
 "metadata": {
  "kernelspec": {
   "display_name": "Python 3",
   "language": "python",
   "name": "python3"
  },
  "language_info": {
   "codemirror_mode": {
    "name": "ipython",
    "version": 3
   },
   "file_extension": ".py",
   "mimetype": "text/x-python",
   "name": "python",
   "nbconvert_exporter": "python",
   "pygments_lexer": "ipython3",
   "version": "3.8.5"
  }
 },
 "nbformat": 4,
 "nbformat_minor": 4
}