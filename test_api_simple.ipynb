{
 "cells": [
  {
   "cell_type": "code",
   "execution_count": null,
   "id": "cell-0",
   "metadata": {},
   "outputs": [],
   "source": "import requests\nimport json\n\n# Teste simples da API - gerar backgrounds para 1 time\nBASE_URL = \"https://letter-image.onrender.com\"\nteam_name = \"flamengo\"\n\nprint(f\"🚀 Testando API para: {team_name}\")\nprint(\"⏳ Gerando backgrounds...\")\n\ndata = {\n    \"team_name\": team_name,\n    \"count\": 2,\n    \"size\": \"1024x1536\",\n    \"quality\": \"medium\"\n}\n\nresponse = requests.post(f\"{BASE_URL}/generate-team-backgrounds\", json=data)\n\nprint(f\"\\nStatus: {response.status_code}\")\n\nif response.status_code == 200:\n    result = response.json()\n    print(f\"✅ Sucesso! {result['count']} imagens geradas\")\n    print(f\"🏆 Time: {result['team_name']}\")\n    print(\"\\n📸 URLs:\")\n    \n    for i, url in enumerate(result['urls'], 1):\n        print(f\"  {i}. {url}\")\nelse:\n    print(f\"❌ Erro: {response.status_code}\")\n    print(f\"Detalhes: {response.text}\")"
  }
 ],
 "metadata": {
  "kernelspec": {
   "display_name": "Python 3",
   "language": "python",
   "name": "python3"
  },
  "language_info": {
   "codemirror_mode": {
    "name": "ipython",
    "version": 3
   },
   "file_extension": ".py",
   "mimetype": "text/x-python",
   "name": "python",
   "nbconvert_exporter": "python",
   "pygments_lexer": "ipython3",
   "version": "3.8.5"
  }
 },
 "nbformat": 4,
 "nbformat_minor": 4
}