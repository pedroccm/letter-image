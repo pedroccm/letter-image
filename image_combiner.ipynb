{
 "cells": [
  {
   "cell_type": "code",
   "execution_count": 5,
   "id": "7aa575df-ee07-4b8f-8d67-f4d89560130d",
   "metadata": {},
   "outputs": [
    {
     "name": "stdout",
     "output_type": "stream",
     "text": [
      "✅ Imagem salva em: saida.png\n"
     ]
    }
   ],
   "source": [
    "#!/usr/bin/env python3\n",
    "\"\"\"\n",
    "combine_images_direct_key.py\n",
    "\n",
    "Exemplo: combinar/editar duas imagens locais com o modelo openai/gpt-image-1,\n",
    "usando a API da AIML e salvando a imagem resultante.\n",
    "\"\"\"\n",
    "\n",
    "import pathlib\n",
    "import base64\n",
    "import requests\n",
    "from openai import OpenAI\n",
    "\n",
    "# Sua chave fixa\n",
    "API_KEY = \"a2c4457ed6a14299a425dd670e5a8ad0\"\n",
    "\n",
    "# Cliente OpenAI apontando para o endpoint da AIML\n",
    "client = OpenAI(\n",
    "    api_key=API_KEY,\n",
    "    base_url=\"https://api.aimlapi.com/v1\",\n",
    ")\n",
    "\n",
    "def save_from_url(url: str, out_path: pathlib.Path):\n",
    "    r = requests.get(url, stream=True)\n",
    "    r.raise_for_status()\n",
    "    out_path.parent.mkdir(parents=True, exist_ok=True)\n",
    "    with open(out_path, \"wb\") as f:\n",
    "        for chunk in r.iter_content(8192):\n",
    "            if chunk:\n",
    "                f.write(chunk)\n",
    "\n",
    "def main():\n",
    "    # Ajuste aqui suas imagens locais, prompt e saída\n",
    "    image1 = \"fundo.jpg\"\n",
    "    image2 = \"escudo.png\"\n",
    "    prompt = \"Quero esse fundo com a mesma forma e estilo porem com as cores desse escudo do escudo.png, coloque o logo com opacidade 50% para parecer integrado ao fundo\"\n",
    "    out_file = pathlib.Path(\"saida.png\")\n",
    "\n",
    "    # Abre as duas imagens\n",
    "    images = [open(image1, \"rb\"), open(image2, \"rb\")]\n",
    "\n",
    "    try:\n",
    "        result = client.images.edit(\n",
    "            model=\"openai/gpt-image-1\",\n",
    "            image=images,\n",
    "            prompt=prompt,\n",
    "            quero a 1 usa até o mesmo prompt ele nao precisa vir da apisize=\"1024x1536\",\n",
    "            output_format=\"png\",\n",
    "            quality=\"medium\",\n",
    "            background=\"auto\",\n",
    "        )\n",
    "\n",
    "        choice = result.data[0]\n",
    "\n",
    "        if getattr(choice, \"url\", None):\n",
    "            save_from_url(choice.url, out_file)\n",
    "            print(f\"✅ Imagem salva em: {out_file}\")\n",
    "        elif getattr(choice, \"b64_json\", None):\n",
    "            img_bytes = base64.b64decode(choice.b64_json)\n",
    "            out_file.parent.mkdir(parents=True, exist_ok=True)\n",
    "            with open(out_file, \"wb\") as f:\n",
    "                f.write(img_bytes)\n",
    "            print(f\"✅ Imagem salva em: {out_file} (via base64)\")\n",
    "        else:\n",
    "            print(\"⚠️ Resposta inesperada:\", result)\n",
    "\n",
    "    finally:\n",
    "        for f in images:\n",
    "            f.close()\n",
    "\n",
    "if __name__ == \"__main__\":\n",
    "    main()\n"
   ]
  },
  {
   "cell_type": "code",
   "execution_count": 1,
   "id": "d8da4e5d-2550-4ec6-8965-54cdf42f3fb6",
   "metadata": {},
   "outputs": [
    {
     "name": "stdout",
     "output_type": "stream",
     "text": [
      "Name: openaiNote: you may need to restart the kernel to use updated packages.\n",
      "\n",
      "Version: 1.58.1\n",
      "Summary: The official Python library for the openai API\n",
      "Home-page: https://github.com/openai/openai-python\n",
      "Author: \n",
      "Author-email: OpenAI <support@openai.com>\n",
      "License: \n",
      "Location: C:\\Users\\PEDRO\\anaconda3\\Lib\\site-packages\n",
      "Requires: anyio, distro, httpx, jiter, pydantic, sniffio, tqdm, typing-extensions\n",
      "Required-by: langchain-openai\n"
     ]
    }
   ],
   "source": [
    "\n",
    "pip show openai\n"
   ]
  }
 ],
 "metadata": {
  "kernelspec": {
   "display_name": "Python 3 (ipykernel)",
   "language": "python",
   "name": "python3"
  },
  "language_info": {
   "codemirror_mode": {
    "name": "ipython",
    "version": 3
   },
   "file_extension": ".py",
   "mimetype": "text/x-python",
   "name": "python",
   "nbconvert_exporter": "python",
   "pygments_lexer": "ipython3",
   "version": "3.12.4"
  }
 },
 "nbformat": 4,
 "nbformat_minor": 5
}
